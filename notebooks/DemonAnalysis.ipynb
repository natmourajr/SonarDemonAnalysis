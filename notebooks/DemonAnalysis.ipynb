{
 "cells": [
  {
   "cell_type": "markdown",
   "metadata": {
    "deletable": true,
    "editable": true
   },
   "source": [
    "# Projeto com Marinha do Brasil\n",
    "\n",
    "## Autor: Natanael Junior (natmourajr@gmail.com)\n",
    "\n",
    "Laboratório de Processamento de Sinais - UFRJ\n",
    "\n",
    "Laboratório de Tecnologia Sonar\n",
    "\n",
    "Instituto de Pesquisas da Marinha - IPqM"
   ]
  },
  {
   "cell_type": "markdown",
   "metadata": {
    "deletable": true,
    "editable": true
   },
   "source": [
    "# Bibliotecas\n",
    "As bibliotecas necessárias para a inclusão"
   ]
  },
  {
   "cell_type": "code",
   "execution_count": 1,
   "metadata": {
    "collapsed": false,
    "deletable": true,
    "editable": true
   },
   "outputs": [
    {
     "name": "stdout",
     "output_type": "stream",
     "text": [
      "CPU times: user 2 µs, sys: 4 µs, total: 6 µs\n",
      "Wall time: 5.01 µs\n"
     ]
    }
   ],
   "source": [
    "%time\n",
    "import os\n",
    "import pickle\n",
    "import numpy as np\n",
    "import time\n",
    "\n",
    "from sklearn.externals import joblib\n",
    "\n",
    "# path to data\n",
    "inputpath = os.environ['INPUTDATAPATH']"
   ]
  },
  {
   "cell_type": "markdown",
   "metadata": {
    "deletable": true,
    "editable": true
   },
   "source": [
    "# Leitura dos dados\n",
    "Leitura de dados de áudio"
   ]
  },
  {
   "cell_type": "code",
   "execution_count": 2,
   "metadata": {
    "collapsed": true
   },
   "outputs": [],
   "source": [
    "# function to convert int16 PCM to float\n",
    "def wav_to_floats(data):\n",
    "    a = [float(val) / pow(2, 15) for val in data]\n",
    "    return a"
   ]
  },
  {
   "cell_type": "code",
   "execution_count": 3,
   "metadata": {
    "collapsed": false,
    "deletable": true,
    "editable": true
   },
   "outputs": [],
   "source": [
    "import wave\n",
    "import scipy.io.wavfile as wavefile\n",
    "\n",
    "data_kind = 'SimulatedData'#'RealData' # 'SimulatedData'\n",
    "data = {}\n",
    "\n",
    "if data_kind == 'RealData':\n",
    "    file_names = ['m076.wav','m190.wav','m205.wav']\n",
    "    for ifile, filename in enumerate(file_names):\n",
    "        if(not os.path.exists(inputpath+'/'+data_kind+'/'+filename)):\n",
    "            print 'File not exists'\n",
    "            continue\n",
    "        # this function read [fs,data]\n",
    "        data[ifile] = wav_to_floats(wavefile.read(inputpath+'/'+data_kind+'/'+filename)[1])\n",
    "elif data_kind == \"SimulatedData\":\n",
    "    file_names = ['an0.wav','an1.wav']\n",
    "    for ifile, filename in enumerate(file_names):\n",
    "        if(not os.path.exists(inputpath+'/'+data_kind+'/'+filename)):\n",
    "            print 'File not exists'\n",
    "            continue\n",
    "        # this function read [fs,data]\n",
    "        data[ifile] = wav_to_floats(wavefile.read(inputpath+'/'+data_kind+'/'+filename)[1])\n",
    "\n"
   ]
  },
  {
   "cell_type": "code",
   "execution_count": 4,
   "metadata": {
    "collapsed": false,
    "deletable": true,
    "editable": true
   },
   "outputs": [
    {
     "data": {
      "image/png": "[encoded data removed]",
      "text/plain": [
       "<matplotlib.figure.Figure at 0x1120eeb90>"
      ]
     },
     "metadata": {},
     "output_type": "display_data"
    }
   ],
   "source": [
    "import matplotlib.pyplot as plt\n",
    "\n",
    "%matplotlib inline\n",
    "\n",
    "fig, ax = plt.subplots(nrows=1, ncols=len(data),figsize=(10,5))\n",
    "\n",
    "for ifile in range(len(data)):\n",
    "    ax[ifile].plot(data[ifile][0:10000],'b')"
   ]
  },
  {
   "cell_type": "code",
   "execution_count": 5,
   "metadata": {
    "collapsed": true
   },
   "outputs": [],
   "source": [
    "# validar os resultados com a analise DEMON"
   ]
  },
  {
   "cell_type": "code",
   "execution_count": null,
   "metadata": {
    "collapsed": false
   },
   "outputs": [],
   "source": []
  }
 ],
 "metadata": {
  "kernelspec": {
   "display_name": "Python 2",
   "language": "python",
   "name": "python2"
  },
  "language_info": {
   "codemirror_mode": {
    "name": "ipython",
    "version": 2
   },
   "file_extension": ".py",
   "mimetype": "text/x-python",
   "name": "python",
   "nbconvert_exporter": "python",
   "pygments_lexer": "ipython2",
   "version": "2.7.10"
  }
 },
 "nbformat": 4,
 "nbformat_minor": 2
}
