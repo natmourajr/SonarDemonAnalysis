{
 "cells": [
  {
   "cell_type": "markdown",
   "metadata": {
    "deletable": true,
    "editable": true
   },
   "source": [
    "# Projeto com Marinha do Brasil\n",
    "\n",
    "## Autor: Natanael Junior (natmourajr@gmail.com)\n",
    "\n",
    "Laboratório de Processamento de Sinais - UFRJ\n",
    "\n",
    "Laboratório de Tecnologia Sonar\n",
    "\n",
    "Instituto de Pesquisas da Marinha - IPqM"
   ]
  },
  {
   "cell_type": "markdown",
   "metadata": {
    "deletable": true,
    "editable": true
   },
   "source": [
    "# Bibliotecas\n",
    "As bibliotecas necessárias para a inclusão"
   ]
  },
  {
   "cell_type": "code",
   "execution_count": 1,
   "metadata": {
    "collapsed": false,
    "deletable": true,
    "editable": true
   },
   "outputs": [
    {
     "name": "stdout",
     "output_type": "stream",
     "text": [
      "CPU times: user 2 µs, sys: 1 µs, total: 3 µs\n",
      "Wall time: 7.15 µs\n"
     ]
    }
   ],
   "source": [
    "%time\n",
    "import os\n",
    "import pickle\n",
    "import numpy as np\n",
    "import time\n",
    "\n",
    "from sklearn.externals import joblib\n",
    "\n",
    "# path to data\n",
    "inputpath = os.environ['INPUTDATAPATH']"
   ]
  },
  {
   "cell_type": "markdown",
   "metadata": {
    "deletable": true,
    "editable": true
   },
   "source": [
    "# Leitura dos dados\n",
    "Leitura de dados de áudio"
   ]
  },
  {
   "cell_type": "code",
   "execution_count": 2,
   "metadata": {
    "collapsed": true,
    "deletable": true,
    "editable": true
   },
   "outputs": [],
   "source": [
    "# function to convert int16 PCM to float\n",
    "def wav_to_floats(data):\n",
    "    a = [float(val) / pow(2, 15) for val in data]\n",
    "    return a"
   ]
  },
  {
   "cell_type": "code",
   "execution_count": 88,
   "metadata": {
    "collapsed": false,
    "deletable": true,
    "editable": true
   },
   "outputs": [],
   "source": [
    "import wave\n",
    "import scipy.io.wavfile as wavefile\n",
    "\n",
    "data_kind = 'RealData'#'RealData' # 'SimulatedData'\n",
    "data = {}\n",
    "\n",
    "if data_kind == 'RealData':\n",
    "    file_names = ['m076.wav','m190.wav','m205.wav']\n",
    "    for ifile, filename in enumerate(file_names):\n",
    "        if(not os.path.exists(inputpath+'/'+data_kind+'/'+filename)):\n",
    "            print 'File not exists'\n",
    "            continue\n",
    "        # this function read [fs,data]\n",
    "        data[ifile] = wav_to_floats(wavefile.read(inputpath+'/'+data_kind+'/'+filename)[1])\n",
    "        fs = wavefile.read(inputpath+'/'+data_kind+'/'+filename)[0]\n",
    "elif data_kind == \"SimulatedData\":\n",
    "    file_names = ['an0.wav','an1.wav']\n",
    "    for ifile, filename in enumerate(file_names):\n",
    "        if(not os.path.exists(inputpath+'/'+data_kind+'/'+filename)):\n",
    "            print 'File not exists'\n",
    "            continue\n",
    "        # this function read [fs,data]\n",
    "        data[ifile] = wav_to_floats(wavefile.read(inputpath+'/'+data_kind+'/'+filename)[1])\n",
    "        fs = wavefile.read(inputpath+'/'+data_kind+'/'+filename)[0]\n"
   ]
  },
  {
   "cell_type": "code",
   "execution_count": 89,
   "metadata": {
    "collapsed": false,
    "deletable": true,
    "editable": true
   },
   "outputs": [],
   "source": [
    "# Demon Analysis\n",
    "\n",
    "import scipy.signal\n",
    "\n",
    "data_abs = {}\n",
    "data_decimate1 = {}\n",
    "data_decimate2 = {}\n",
    "data_demon = {}\n",
    "data_demon_abs = {}\n",
    "\n",
    "# demon parameters \n",
    "decimation_rate1 = 25\n",
    "decimation_rate2= 25\n",
    "n_pts_fft = 1024\n",
    "window_size = 20 # in seconds\n",
    "n_pts_windows = window_size*n_pts_fft\n",
    "overlap = 0.5 # in seconds\n",
    "n_pts_ovrlap = overlap*n_overlag_pts\n",
    "\n",
    "\n",
    "for irecords in range(len(data)):\n",
    "    data_abs[irecords] = np.abs(data[irecords])\n",
    "    \n",
    "    # decimation in 2 steps - first step\n",
    "    data_decimate1[irecords] = scipy.signal.decimate(data_abs[irecords],\n",
    "                                                   decimation_rate1,ftype='fir',n=10)\n",
    "    fs_decimate1 = float(fs)/float(decimation_rate1)\n",
    "    \n",
    "    # decimation in 2 steps - second step\n",
    "    data_decimate2[irecords] = scipy.signal.decimate(data_decimate1[irecords],\n",
    "                                                    decimation_rate1,ftype='fir',n=10)\n",
    "    fs_decimate2 = float(fs_decimate1)/float(decimation_rate2)\n",
    "    \n",
    "    f, t, Sxx = scipy.signal.spectrogram((data_decimate2[irecords].T\n",
    "                                          -np.mean(data_decimate2[irecords])),\n",
    "                                         fs=fs_decimate2,\n",
    "                                         window=scipy.signal.hanning(n_pts_fft),\n",
    "                                         nperseg=n_pts_fft,\n",
    "                                         noverlap=0, nfft=n_pts_fft)\n",
    "    data_demon[irecords] = Sxx\n",
    "    data_demon_abs[irecords] = np.abs(data_demon[irecords])\n",
    "    \n",
    "    "
   ]
  },
  {
   "cell_type": "code",
   "execution_count": 81,
   "metadata": {
    "collapsed": false,
    "deletable": true,
    "editable": true
   },
   "outputs": [],
   "source": [
    "# validar os resultados com a analise DEMON\n"
   ]
  },
  {
   "cell_type": "code",
   "execution_count": 91,
   "metadata": {
    "collapsed": false,
    "deletable": true,
    "editable": true
   },
   "outputs": [
    {
     "data": {
      "image/png": "[encoded data removed]",
      "text/plain": [
       "<matplotlib.figure.Figure at 0x10e70c250>"
      ]
     },
     "metadata": {},
     "output_type": "display_data"
    }
   ],
   "source": [
    "import matplotlib.pyplot as plt\n",
    "\n",
    "%matplotlib inline\n",
    "\n",
    "\n",
    "fig, ax= plt.subplots(figsize=(10,5),nrows=1, ncols=len(data_demon_abs))\n",
    "\n",
    "for irecord in range(len(data_demon_abs)):\n",
    "    ax[irecord].imshow(data_demon_abs[irecord].T,cmap=\"jet\", aspect='equal')"
   ]
  }
 ],
 "metadata": {
  "kernelspec": {
   "display_name": "Python 2",
   "language": "python",
   "name": "python2"
  },
  "language_info": {
   "codemirror_mode": {
    "name": "ipython",
    "version": 2
   },
   "file_extension": ".py",
   "mimetype": "text/x-python",
   "name": "python",
   "nbconvert_exporter": "python",
   "pygments_lexer": "ipython2",
   "version": "2.7.10"
  }
 },
 "nbformat": 4,
 "nbformat_minor": 2
}
